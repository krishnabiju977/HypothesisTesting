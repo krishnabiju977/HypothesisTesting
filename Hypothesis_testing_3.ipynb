{
 "cells": [
  {
   "cell_type": "code",
   "execution_count": 3,
   "id": "c918c802-6dbc-4a8f-8cd3-c71d87e07188",
   "metadata": {},
   "outputs": [],
   "source": [
    "import pandas as pd\n",
    "import numpy as np\n",
    "from scipy import stats\n",
    "from scipy.stats import norm\n",
    "import statsmodels.api as sm\n",
    "import matplotlib.pyplot as plt\n",
    "import seaborn as sns\n",
    "import warnings\n",
    "warnings.filterwarnings(\"ignore\")"
   ]
  },
  {
   "cell_type": "code",
   "execution_count": 4,
   "id": "a46af18c-da5b-41db-b0a1-d8a48f9c9d24",
   "metadata": {},
   "outputs": [],
   "source": [
    "from scipy.stats import chi2_contingency"
   ]
  },
  {
   "cell_type": "code",
   "execution_count": 5,
   "id": "e8eacfff-9db1-441d-adc5-f33b89405fac",
   "metadata": {},
   "outputs": [],
   "source": [
    "br=pd.read_csv(r\"C:\\Users\\Admin\\Downloads\\BuyerRatio.csv\")"
   ]
  },
  {
   "cell_type": "code",
   "execution_count": 6,
   "id": "be4baaf0-5203-425b-8e84-c6480604c7d1",
   "metadata": {},
   "outputs": [
    {
     "data": {
      "text/html": [
       "<div>\n",
       "<style scoped>\n",
       "    .dataframe tbody tr th:only-of-type {\n",
       "        vertical-align: middle;\n",
       "    }\n",
       "\n",
       "    .dataframe tbody tr th {\n",
       "        vertical-align: top;\n",
       "    }\n",
       "\n",
       "    .dataframe thead th {\n",
       "        text-align: right;\n",
       "    }\n",
       "</style>\n",
       "<table border=\"1\" class=\"dataframe\">\n",
       "  <thead>\n",
       "    <tr style=\"text-align: right;\">\n",
       "      <th></th>\n",
       "      <th>Observed Values</th>\n",
       "      <th>East</th>\n",
       "      <th>West</th>\n",
       "      <th>North</th>\n",
       "      <th>South</th>\n",
       "    </tr>\n",
       "  </thead>\n",
       "  <tbody>\n",
       "    <tr>\n",
       "      <th>0</th>\n",
       "      <td>Males</td>\n",
       "      <td>50</td>\n",
       "      <td>142</td>\n",
       "      <td>131</td>\n",
       "      <td>70</td>\n",
       "    </tr>\n",
       "    <tr>\n",
       "      <th>1</th>\n",
       "      <td>Females</td>\n",
       "      <td>435</td>\n",
       "      <td>1523</td>\n",
       "      <td>1356</td>\n",
       "      <td>750</td>\n",
       "    </tr>\n",
       "  </tbody>\n",
       "</table>\n",
       "</div>"
      ],
      "text/plain": [
       "  Observed Values  East  West  North  South\n",
       "0           Males    50   142    131     70\n",
       "1         Females   435  1523   1356    750"
      ]
     },
     "execution_count": 6,
     "metadata": {},
     "output_type": "execute_result"
    }
   ],
   "source": [
    "br"
   ]
  },
  {
   "cell_type": "code",
   "execution_count": 7,
   "id": "570f5faa-f4df-4739-a59c-fd793bd07822",
   "metadata": {},
   "outputs": [
    {
     "data": {
      "text/plain": [
       "East\n",
       "50     1\n",
       "435    1\n",
       "Name: count, dtype: int64"
      ]
     },
     "execution_count": 7,
     "metadata": {},
     "output_type": "execute_result"
    }
   ],
   "source": [
    "br.East.value_counts()"
   ]
  },
  {
   "cell_type": "code",
   "execution_count": 8,
   "id": "f3d4b840-93a1-4a71-9605-05e6b8fc0ef2",
   "metadata": {},
   "outputs": [
    {
     "data": {
      "text/plain": [
       "West\n",
       "142     1\n",
       "1523    1\n",
       "Name: count, dtype: int64"
      ]
     },
     "execution_count": 8,
     "metadata": {},
     "output_type": "execute_result"
    }
   ],
   "source": [
    "br.West.value_counts()"
   ]
  },
  {
   "cell_type": "code",
   "execution_count": 9,
   "id": "27061652-68b4-48c6-8e3d-015eca577b13",
   "metadata": {},
   "outputs": [
    {
     "data": {
      "text/plain": [
       "North\n",
       "131     1\n",
       "1356    1\n",
       "Name: count, dtype: int64"
      ]
     },
     "execution_count": 9,
     "metadata": {},
     "output_type": "execute_result"
    }
   ],
   "source": [
    "br.North.value_counts()"
   ]
  },
  {
   "cell_type": "code",
   "execution_count": 10,
   "id": "43d451b0-9834-4bcb-8f5c-92c0001cd48f",
   "metadata": {},
   "outputs": [
    {
     "data": {
      "text/plain": [
       "South\n",
       "70     1\n",
       "750    1\n",
       "Name: count, dtype: int64"
      ]
     },
     "execution_count": 10,
     "metadata": {},
     "output_type": "execute_result"
    }
   ],
   "source": [
    "br.South.value_counts()"
   ]
  },
  {
   "cell_type": "code",
   "execution_count": 11,
   "id": "2ee62083-af8f-4152-8e4b-03ad2af813b5",
   "metadata": {},
   "outputs": [],
   "source": [
    "#Ho: All proportions are equal\n",
    "#H1: All proportions are equal\n",
    "#Test statistic chi-square=∑(O-E)^2/E\n",
    "#Where O- observed frequency of each cell\n",
    "#E- Expected values for each cell"
   ]
  },
  {
   "cell_type": "code",
   "execution_count": 12,
   "id": "bf986f60-f7b0-4ce3-a86c-6f869d7e8e10",
   "metadata": {},
   "outputs": [
    {
     "data": {
      "text/plain": [
       "array([[  50,  142,  131,   70],\n",
       "       [ 435, 1523, 1356,  750]])"
      ]
     },
     "execution_count": 12,
     "metadata": {},
     "output_type": "execute_result"
    }
   ],
   "source": [
    "# Make a contingency table\n",
    "p=np.array([[50,142,131,70],[435,1523,1356,750]])\n",
    "p"
   ]
  },
  {
   "cell_type": "code",
   "execution_count": 13,
   "id": "3619d868-fcdb-45d5-a1ba-133454b5c04f",
   "metadata": {},
   "outputs": [
    {
     "data": {
      "text/plain": [
       "Chi2ContingencyResult(statistic=1.595945538661058, pvalue=0.6603094907091882, dof=3, expected_freq=array([[  42.76531299,  146.81287862,  131.11756787,   72.30424052],\n",
       "       [ 442.23468701, 1518.18712138, 1355.88243213,  747.69575948]]))"
      ]
     },
     "execution_count": 13,
     "metadata": {},
     "output_type": "execute_result"
    }
   ],
   "source": [
    "# Chi2 contengency independence test\n",
    "chi2_contingency(p) # o/p is (Chi2 stats value, p_value, df, expected obsvations)"
   ]
  },
  {
   "cell_type": "code",
   "execution_count": 14,
   "id": "1ef58d0a-a641-4fe4-b7bc-ad81ba9b38f4",
   "metadata": {},
   "outputs": [],
   "source": [
    "#Therefore we get our chi-square value as 1.59 and the degrees of freedom [ (r-1)*(c-1)] is 3\n",
    "#Also the p value =0.6603.\n",
    "#So we get the critical value from the table for α=0.05 and df=3 is 7.815.So p value is greater than 0.05 we accept Ho.\n",
    "#all proportions are equal."
   ]
  },
  {
   "cell_type": "code",
   "execution_count": null,
   "id": "87c92a17-d716-459f-928b-31d999516bfe",
   "metadata": {},
   "outputs": [],
   "source": []
  }
 ],
 "metadata": {
  "kernelspec": {
   "display_name": "Python 3 (ipykernel)",
   "language": "python",
   "name": "python3"
  },
  "language_info": {
   "codemirror_mode": {
    "name": "ipython",
    "version": 3
   },
   "file_extension": ".py",
   "mimetype": "text/x-python",
   "name": "python",
   "nbconvert_exporter": "python",
   "pygments_lexer": "ipython3",
   "version": "3.10.4"
  }
 },
 "nbformat": 4,
 "nbformat_minor": 5
}
